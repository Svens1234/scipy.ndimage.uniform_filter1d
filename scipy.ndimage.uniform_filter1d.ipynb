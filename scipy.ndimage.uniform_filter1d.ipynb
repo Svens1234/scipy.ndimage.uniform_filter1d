{
 "cells": [
  {
   "cell_type": "code",
   "execution_count": 1,
   "id": "1538a370",
   "metadata": {},
   "outputs": [],
   "source": [
    "from scipy.ndimage import uniform_filter1d"
   ]
  },
  {
   "cell_type": "code",
   "execution_count": 5,
   "id": "2c627da8",
   "metadata": {},
   "outputs": [
    {
     "data": {
      "text/plain": [
       "array([4, 3, 4, 1, 4, 6, 6, 3])"
      ]
     },
     "execution_count": 5,
     "metadata": {},
     "output_type": "execute_result"
    }
   ],
   "source": [
    "uniform_filter1d([2, 8, 0, 4, 1, 9, 9, 0], size=3)"
   ]
  },
  {
   "cell_type": "code",
   "execution_count": null,
   "id": "a0e88299",
   "metadata": {},
   "outputs": [],
   "source": []
  }
 ],
 "metadata": {
  "kernelspec": {
   "display_name": "Python 3 (ipykernel)",
   "language": "python",
   "name": "python3"
  },
  "language_info": {
   "codemirror_mode": {
    "name": "ipython",
    "version": 3
   },
   "file_extension": ".py",
   "mimetype": "text/x-python",
   "name": "python",
   "nbconvert_exporter": "python",
   "pygments_lexer": "ipython3",
   "version": "3.10.5"
  }
 },
 "nbformat": 4,
 "nbformat_minor": 5
}
